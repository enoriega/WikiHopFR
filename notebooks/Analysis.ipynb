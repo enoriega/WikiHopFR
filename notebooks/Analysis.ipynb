{
 "cells": [
  {
   "cell_type": "code",
   "execution_count": 1,
   "metadata": {},
   "outputs": [],
   "source": [
    "import json\n",
    "import itertools as it\n",
    "import pandas as pd\n",
    "import matplotlib.pyplot as plt\n",
    "\n",
    "%matplotlib notebook\n",
    "\n",
    "with open('deps_results2.json') as f:\n",
    "    data = json.load(f)"
   ]
  },
  {
   "cell_type": "markdown",
   "metadata": {},
   "source": [
    "## Select just the succesful instances"
   ]
  },
  {
   "cell_type": "code",
   "execution_count": 2,
   "metadata": {},
   "outputs": [],
   "source": [
    "def is_successful(item): \n",
    "        return 'Successful' in item[1] \n",
    "\n",
    "successes = [item for item in data.items() if is_successful(item)]"
   ]
  },
  {
   "cell_type": "markdown",
   "metadata": {},
   "source": [
    "We have a total of"
   ]
  },
  {
   "cell_type": "code",
   "execution_count": 3,
   "metadata": {},
   "outputs": [
    {
     "name": "stdout",
     "output_type": "stream",
     "text": [
      "8211 successes out of 43738\n"
     ]
    }
   ],
   "source": [
    "print(\"%i successes out of %i\" % (len(successes), len(data)))"
   ]
  },
  {
   "cell_type": "markdown",
   "metadata": {},
   "source": [
    "## Create a data frame with the successful instances"
   ]
  },
  {
   "cell_type": "code",
   "execution_count": 4,
   "metadata": {},
   "outputs": [],
   "source": [
    "frame = pd.DataFrame({'Key':s[0], 'Path':s[1]['Successful']} for s in successes)"
   ]
  },
  {
   "cell_type": "markdown",
   "metadata": {},
   "source": [
    "## Analize path lengths"
   ]
  },
  {
   "cell_type": "code",
   "execution_count": 5,
   "metadata": {},
   "outputs": [
    {
     "data": {
      "text/plain": [
       "1     2501\n",
       "2     2261\n",
       "3     1560\n",
       "4      901\n",
       "5      487\n",
       "6      242\n",
       "7      141\n",
       "8       55\n",
       "9       26\n",
       "10      18\n",
       "11       7\n",
       "13       5\n",
       "12       4\n",
       "15       2\n",
       "14       1\n",
       "Name: PathLength, dtype: int64"
      ]
     },
     "execution_count": 5,
     "metadata": {},
     "output_type": "execute_result"
    }
   ],
   "source": [
    "frame['PathLength'] = frame.Path.apply(lambda ps: min(len(p) for p in ps))\n",
    "\n",
    "frame.PathLength.value_counts()"
   ]
  },
  {
   "cell_type": "code",
   "execution_count": 6,
   "metadata": {},
   "outputs": [
    {
     "data": {
      "image/png": "[encoded data removed]",
      "text/plain": [
       "<Figure size 432x288 with 1 Axes>"
      ]
     },
     "metadata": {
      "needs_background": "light"
     },
     "output_type": "display_data"
    }
   ],
   "source": [
    "frame.PathLength.hist()\n",
    "plt.show()"
   ]
  },
  {
   "cell_type": "markdown",
   "metadata": {},
   "source": [
    "## Analize number required of documents "
   ]
  },
  {
   "cell_type": "code",
   "execution_count": 7,
   "metadata": {},
   "outputs": [
    {
     "data": {
      "text/plain": [
       "1     3511\n",
       "2     2845\n",
       "3     1171\n",
       "4      438\n",
       "5      165\n",
       "6       61\n",
       "7       17\n",
       "10       1\n",
       "9        1\n",
       "8        1\n",
       "Name: MinDocs, dtype: int64"
      ]
     },
     "execution_count": 7,
     "metadata": {},
     "output_type": "execute_result"
    }
   ],
   "source": [
    "def num_documents(paths):\n",
    "    def helper(l, r, total):\n",
    "        cum = l | r\n",
    "        if len(l & r) > 0:\n",
    "            return (cum, total)\n",
    "        else:\n",
    "            return (cum, total + 1)\n",
    "        \n",
    "    totals = list()\n",
    "        \n",
    "    for path in paths:\n",
    "        doc_sets = [{a['Doc'] for a in edge['Attributions']} for edge in path]\n",
    "        if len(doc_sets) == 1:\n",
    "            totals.append(1)\n",
    "        else:\n",
    "            sumation = 1\n",
    "            current = doc_sets[0]\n",
    "            for n in doc_sets[1:]:\n",
    "                current, sumation = helper(current, n, sumation)\n",
    "            totals.append(sumation)\n",
    "    \n",
    "    return min(totals)\n",
    "\n",
    "frame['MinDocs'] = frame.Path.apply(num_documents)\n",
    "\n",
    "frame.MinDocs.value_counts()"
   ]
  },
  {
   "cell_type": "code",
   "execution_count": 8,
   "metadata": {},
   "outputs": [
    {
     "data": {
      "text/plain": [
       "<matplotlib.axes._subplots.AxesSubplot at 0x12774cf28>"
      ]
     },
     "execution_count": 8,
     "metadata": {},
     "output_type": "execute_result"
    },
    {
     "data": {
      "image/png": "[encoded data removed]",
      "text/plain": [
       "<Figure size 432x288 with 1 Axes>"
      ]
     },
     "metadata": {
      "needs_background": "light"
     },
     "output_type": "display_data"
    }
   ],
   "source": [
    "\n",
    "frame.MinDocs.hist()"
   ]
  }
 ],
 "metadata": {
  "kernelspec": {
   "display_name": "Python 3",
   "language": "python",
   "name": "python3"
  },
  "language_info": {
   "codemirror_mode": {
    "name": "ipython",
    "version": 3
   },
   "file_extension": ".py",
   "mimetype": "text/x-python",
   "name": "python",
   "nbconvert_exporter": "python",
   "pygments_lexer": "ipython3",
   "version": "3.7.2"
  }
 },
 "nbformat": 4,
 "nbformat_minor": 2
}
