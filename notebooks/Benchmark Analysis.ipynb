{
 "cells": [
  {
   "cell_type": "markdown",
   "metadata": {},
   "source": [
    "# Introduction"
   ]
  },
  {
   "cell_type": "markdown",
   "metadata": {},
   "source": [
    "Set up the environmet for the analysis. Load the file to display results further down"
   ]
  },
  {
   "cell_type": "code",
   "execution_count": 617,
   "metadata": {},
   "outputs": [],
   "source": [
    "input_path = \"../automated_output/benchmark_OpenIE_Local_Cascade.json\""
   ]
  },
  {
   "cell_type": "code",
   "execution_count": 618,
   "metadata": {},
   "outputs": [],
   "source": [
    "import json\n",
    "import pandas as pd\n",
    "\n",
    "with open(input_path) as f:\n",
    "    data = json.load(f)"
   ]
  },
  {
   "cell_type": "code",
   "execution_count": 619,
   "metadata": {},
   "outputs": [
    {
     "name": "stdout",
     "output_type": "stream",
     "text": [
      "This benchmark is comprised of 43738 instances, with 12000 successes and a success rate of 0.274361\n"
     ]
    }
   ],
   "source": [
    "print(\"This benchmark is comprised of %i instances, with %i successes and a success rate of %f\" % (data[\"size\"], data[\"numSuccesses\"], data[\"numSuccesses\"]/data[\"size\"]))"
   ]
  },
  {
   "cell_type": "markdown",
   "metadata": {},
   "source": [
    "## Statistics for succesful cases"
   ]
  },
  {
   "cell_type": "markdown",
   "metadata": {},
   "source": [
    "### Distribution of iterations per trail"
   ]
  },
  {
   "cell_type": "code",
   "execution_count": 620,
   "metadata": {},
   "outputs": [
    {
     "name": "stdout",
     "output_type": "stream",
     "text": [
      "5        3\n",
      "1    11097\n",
      "2      821\n",
      "3       74\n",
      "4        5\n",
      "dtype: int64\n"
     ]
    }
   ],
   "source": [
    "stats = data[\"stats\"]\n",
    "\n",
    "iterationsDist = pd.Series(stats[\"iterationsDist\"])\n",
    "\n",
    "print(iterationsDist)"
   ]
  },
  {
   "cell_type": "markdown",
   "metadata": {},
   "source": [
    "### Distribution of papers read per trail"
   ]
  },
  {
   "cell_type": "code",
   "execution_count": 621,
   "metadata": {},
   "outputs": [
    {
     "name": "stdout",
     "output_type": "stream",
     "text": [
      "5     1155\n",
      "10     126\n",
      "24       2\n",
      "25       1\n",
      "14      25\n",
      "20       5\n",
      "1     1618\n",
      "6      673\n",
      "21       3\n",
      "9      163\n",
      "13      38\n",
      "2     2574\n",
      "17       4\n",
      "27       1\n",
      "12      47\n",
      "7      421\n",
      "3     2951\n",
      "18      10\n",
      "16      15\n",
      "31       1\n",
      "11      64\n",
      "26       1\n",
      "23       1\n",
      "8      255\n",
      "36       1\n",
      "19       3\n",
      "4     1823\n",
      "15      19\n",
      "dtype: int64\n"
     ]
    }
   ],
   "source": [
    "papersDist = pd.Series(stats['papersDist'])\n",
    "print(papersDist)"
   ]
  },
  {
   "cell_type": "markdown",
   "metadata": {},
   "source": [
    "### Distribution of actions over all"
   ]
  },
  {
   "cell_type": "code",
   "execution_count": 622,
   "metadata": {},
   "outputs": [
    {
     "name": "stdout",
     "output_type": "stream",
     "text": [
      "EXPLORATION           0\n",
      "RANDOM                0\n",
      "EXPLOITATION          0\n",
      "EXPLORATION_DOUBLE    0\n",
      "dtype: int64\n"
     ]
    }
   ],
   "source": [
    "actionDist = pd.Series(stats['actionDist'])\n",
    "print(actionDist)"
   ]
  },
  {
   "cell_type": "markdown",
   "metadata": {},
   "source": [
    "A more detailed look at the cases with a path (_Successful_ cases). Preprocess the data and take a look into the structure of the data frame."
   ]
  },
  {
   "cell_type": "code",
   "execution_count": 623,
   "metadata": {},
   "outputs": [
    {
     "name": "stdout",
     "output_type": "stream",
     "text": [
      "            actions errors  iterations  min_papers  papersRead\n",
      "id                                                            \n",
      "WH_train_15      {}     []           1           1           2\n",
      "WH_train_18      {}     []           1           1           2\n",
      "WH_train_21      {}     []           1           2           3\n",
      "WH_train_28      {}     []           1           2           4\n",
      "WH_train_29      {}     []           1           2           3\n",
      "Num elements: 12000\n"
     ]
    }
   ],
   "source": [
    "successes = [d for d in data['data'] if d['success']]\n",
    "\n",
    "def num_documents(paths):\n",
    "    '''\n",
    "    This function computes the size of minimal set of documents for each path containes in the argument.\n",
    "    Then it returns the smallest size.\n",
    "    '''\n",
    "    def helper(l, r, total):\n",
    "        cum = l | r\n",
    "        if len(l & r) > 0:\n",
    "            return (cum, total)\n",
    "        else:\n",
    "            return (cum, total + 1)\n",
    "        \n",
    "    totals = list()\n",
    "        \n",
    "    for path in paths:\n",
    "        doc_sets = [{a['document'] for a in edge['attributions']} for edge in path]\n",
    "        if len(doc_sets) == 1:\n",
    "            totals.append(1)\n",
    "        else:\n",
    "            sumation = 1\n",
    "            current = doc_sets[0]\n",
    "            for n in doc_sets[1:]:\n",
    "                current, sumation = helper(current, n, sumation)\n",
    "            totals.append(sumation)\n",
    "    \n",
    "    return min(totals)\n",
    "\n",
    "for s in successes:\n",
    "    s['min_papers'] = num_documents(s['paths'])\n",
    "\n",
    "\n",
    "f = pd.DataFrame({k: d[k] for k in set(d.keys()).difference({'success', 'paths'})} for d in successes)\n",
    "f.set_index('id', inplace=True)\n",
    "print(f.head())\n",
    "print(\"Num elements: %i\" % f.shape[0])"
   ]
  },
  {
   "cell_type": "code",
   "execution_count": 624,
   "metadata": {},
   "outputs": [
    {
     "name": "stdout",
     "output_type": "stream",
     "text": [
      "True\n"
     ]
    }
   ],
   "source": [
    "# Small sanity check. No epoch should've read less than the paper lower bound computer for it.\n",
    "print(all(f.min_papers <= f.papersRead))"
   ]
  },
  {
   "cell_type": "markdown",
   "metadata": {},
   "source": [
    "Take a look at the paper distributions"
   ]
  },
  {
   "cell_type": "code",
   "execution_count": 625,
   "metadata": {},
   "outputs": [
    {
     "data": {
      "image/png": "[encoded data removed]",
      "text/plain": [
       "<Figure size 432x288 with 1 Axes>"
      ]
     },
     "metadata": {
      "needs_background": "light"
     },
     "output_type": "display_data"
    }
   ],
   "source": [
    "import matplotlib.pyplot as plt\n",
    "f.min_papers.hist(bins=f.min_papers.max())\n",
    "plt.show()"
   ]
  },
  {
   "cell_type": "code",
   "execution_count": 626,
   "metadata": {},
   "outputs": [
    {
     "data": {
      "image/png": "[encoded data removed]",
      "text/plain": [
       "<Figure size 432x288 with 1 Axes>"
      ]
     },
     "metadata": {
      "needs_background": "light"
     },
     "output_type": "display_data"
    }
   ],
   "source": [
    "import matplotlib.pyplot as plt\n",
    "f.min_papers.hist(bins=f.min_papers.max())\n",
    "plt.show()"
   ]
  },
  {
   "cell_type": "code",
   "execution_count": 627,
   "metadata": {},
   "outputs": [
    {
     "data": {
      "text/plain": [
       "1.55775"
      ]
     },
     "execution_count": 627,
     "metadata": {},
     "output_type": "execute_result"
    }
   ],
   "source": [
    "f.min_papers.mean()"
   ]
  },
  {
   "cell_type": "code",
   "execution_count": 628,
   "metadata": {},
   "outputs": [
    {
     "data": {
      "text/plain": [
       "0.6652331536855307"
      ]
     },
     "execution_count": 628,
     "metadata": {},
     "output_type": "execute_result"
    }
   ],
   "source": [
    "f.min_papers.std()"
   ]
  },
  {
   "cell_type": "code",
   "execution_count": 629,
   "metadata": {},
   "outputs": [
    {
     "data": {
      "image/png": "[encoded data removed]",
      "text/plain": [
       "<Figure size 432x288 with 1 Axes>"
      ]
     },
     "metadata": {
      "needs_background": "light"
     },
     "output_type": "display_data"
    }
   ],
   "source": [
    "f.papersRead.hist(bins=f.papersRead.max())\n",
    "plt.show()"
   ]
  },
  {
   "cell_type": "code",
   "execution_count": 630,
   "metadata": {},
   "outputs": [
    {
     "data": {
      "text/plain": [
       "3.6465833333333335"
      ]
     },
     "execution_count": 630,
     "metadata": {},
     "output_type": "execute_result"
    }
   ],
   "source": [
    "f.papersRead.mean()\n"
   ]
  },
  {
   "cell_type": "code",
   "execution_count": 631,
   "metadata": {},
   "outputs": [
    {
     "data": {
      "text/plain": [
       "2.460525250516901"
      ]
     },
     "execution_count": 631,
     "metadata": {},
     "output_type": "execute_result"
    }
   ],
   "source": [
    "f.papersRead.std()"
   ]
  },
  {
   "cell_type": "markdown",
   "metadata": {},
   "source": [
    "Out of the instances finished after one iteration. What is the paper distribution?"
   ]
  },
  {
   "cell_type": "code",
   "execution_count": 632,
   "metadata": {},
   "outputs": [],
   "source": [
    "# lucky_ones = f[f.actions.map(lambda r: sum(r.values())) == 1]\n",
    "# lucky_ones.papersRead.hist(bins=lucky_ones.papersRead.max())\n",
    "# plt.show()"
   ]
  },
  {
   "cell_type": "markdown",
   "metadata": {},
   "source": [
    "# Error analysis"
   ]
  },
  {
   "cell_type": "code",
   "execution_count": 633,
   "metadata": {},
   "outputs": [
    {
     "name": "stdout",
     "output_type": "stream",
     "text": [
      "           actions errors  iterations  papersRead\n",
      "id                                               \n",
      "WH_train_0      {}     []          10           1\n",
      "WH_train_1      {}     []          10           1\n",
      "WH_train_2      {}     []          10           2\n",
      "WH_train_3      {}     []          10           2\n",
      "WH_train_4      {}     []          10          17\n",
      "Num elements: 31715\n"
     ]
    }
   ],
   "source": [
    "# First, isolate the negative cases\n",
    "\n",
    "failures = [d for d in data['data'] if not d['success']]\n",
    "\n",
    "\n",
    "s = pd.DataFrame({k: d[k] for k in set(d.keys()).difference({'success', 'paths'})} for d in failures)\n",
    "s.set_index('id', inplace=True)\n",
    "print(s.head())\n",
    "print(\"Num elements: %i\" % s.shape[0])"
   ]
  },
  {
   "cell_type": "markdown",
   "metadata": {},
   "source": [
    "How many of the failures were due to _iteration exhaustion_?"
   ]
  },
  {
   "cell_type": "code",
   "execution_count": 634,
   "metadata": {},
   "outputs": [
    {
     "name": "stdout",
     "output_type": "stream",
     "text": [
      "31621 out of 31715, or 0.997036\n"
     ]
    }
   ],
   "source": [
    "max_iter = s.iterations.max()\n",
    "\n",
    "exhausted = s[s.iterations == max_iter]\n",
    "\n",
    "percent = exhausted.shape[0]/s.shape[0]\n",
    "\n",
    "print(\"%i out of %i, or %f\" % (exhausted.shape[0], s.shape[0], percent))"
   ]
  },
  {
   "cell_type": "markdown",
   "metadata": {},
   "source": [
    "The reminder of failures, had the following distribution of iterations:"
   ]
  },
  {
   "cell_type": "code",
   "execution_count": 635,
   "metadata": {},
   "outputs": [
    {
     "data": {
      "image/png": "[encoded data removed]",
      "text/plain": [
       "<Figure size 432x288 with 1 Axes>"
      ]
     },
     "metadata": {
      "needs_background": "light"
     },
     "output_type": "display_data"
    }
   ],
   "source": [
    "not_exhausted = s[s.iterations != max_iter]\n",
    "not_exhausted.iterations.hist(bins=not_exhausted.iterations.max())\n",
    "plt.show()"
   ]
  },
  {
   "cell_type": "code",
   "execution_count": 636,
   "metadata": {},
   "outputs": [
    {
     "data": {
      "image/png": "[encoded data removed]",
      "text/plain": [
       "<Figure size 432x288 with 1 Axes>"
      ]
     },
     "metadata": {
      "needs_background": "light"
     },
     "output_type": "display_data"
    }
   ],
   "source": [
    "not_exhausted.papersRead.hist()\n",
    "plt.show()"
   ]
  },
  {
   "cell_type": "markdown",
   "metadata": {},
   "source": [
    "The explanation for this is that the information retrieval returned a small amount of papers, and no new data was added to the knowledge graph or any other reason that lead to _action starvation_"
   ]
  }
 ],
 "metadata": {
  "kernelspec": {
   "display_name": "Python 3",
   "language": "python",
   "name": "python3"
  },
  "language_info": {
   "codemirror_mode": {
    "name": "ipython",
    "version": 3
   },
   "file_extension": ".py",
   "mimetype": "text/x-python",
   "name": "python",
   "nbconvert_exporter": "python",
   "pygments_lexer": "ipython3",
   "version": "3.7.3"
  }
 },
 "nbformat": 4,
 "nbformat_minor": 2
}
