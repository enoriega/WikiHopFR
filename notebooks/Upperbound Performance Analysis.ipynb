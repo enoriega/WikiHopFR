{
 "cells": [
  {
   "cell_type": "markdown",
   "metadata": {},
   "source": [
    "# Introduction"
   ]
  },
  {
   "cell_type": "markdown",
   "metadata": {},
   "source": [
    "Set up the environment and read the corresponding input file"
   ]
  },
  {
   "cell_type": "code",
   "execution_count": 14,
   "metadata": {
    "tags": [
     "parameters"
    ]
   },
   "outputs": [],
   "source": [
    "input_path = \"../output/deps_results.json\""
   ]
  },
  {
   "cell_type": "code",
   "execution_count": 15,
   "metadata": {},
   "outputs": [],
   "source": [
    "import json\n",
    "import itertools as it\n",
    "import pandas as pd\n",
    "import matplotlib.pyplot as plt\n",
    "from IPython.display import display, Markdown\n",
    "\n",
    "\n",
    "with open(input_path) as f:\n",
    "    data = json.load(f)"
   ]
  },
  {
   "cell_type": "markdown",
   "metadata": {},
   "source": [
    "## Outcome distribution"
   ]
  },
  {
   "cell_type": "markdown",
   "metadata": {},
   "source": [
    "First, count the number of successful outcomes. These are training instances for which we found a path connecting both endpoints using the product of information extraction."
   ]
  },
  {
   "cell_type": "code",
   "execution_count": 16,
   "metadata": {},
   "outputs": [
    {
     "data": {
      "text/markdown": [
       "### Successes"
      ],
      "text/plain": [
       "<IPython.core.display.Markdown object>"
      ]
     },
     "metadata": {},
     "output_type": "display_data"
    },
    {
     "name": "stdout",
     "output_type": "stream",
     "text": [
      "8211 successes out of 43738 (0.187731)\n"
     ]
    },
    {
     "data": {
      "text/markdown": [
       "---"
      ],
      "text/plain": [
       "<IPython.core.display.Markdown object>"
      ]
     },
     "metadata": {},
     "output_type": "display_data"
    }
   ],
   "source": [
    "def is_successful(item): \n",
    "        return 'Successful' in item[1] \n",
    "\n",
    "successes = [item for item in data.items() if is_successful(item)]\n",
    "\n",
    "display(Markdown(\"### Successes\"))\n",
    "print(\"%i successes out of %i (%f)\" % (len(successes), len(data), len(successes)/ float(len(data))))\n",
    "display(Markdown(\"---\"))"
   ]
  },
  {
   "cell_type": "markdown",
   "metadata": {},
   "source": [
    "Second, the instances were no path was found. Here, IE didn't yield the data to populate a knowledge graph with elements connecting the endpoints of the search"
   ]
  },
  {
   "cell_type": "code",
   "execution_count": 17,
   "metadata": {},
   "outputs": [
    {
     "data": {
      "text/markdown": [
       "### No path found"
      ],
      "text/plain": [
       "<IPython.core.display.Markdown object>"
      ]
     },
     "metadata": {},
     "output_type": "display_data"
    },
    {
     "name": "stdout",
     "output_type": "stream",
     "text": [
      "Instances with no connecting path: 18828 out of 43738\n"
     ]
    },
    {
     "data": {
      "text/markdown": [
       "---"
      ],
      "text/plain": [
       "<IPython.core.display.Markdown object>"
      ]
     },
     "metadata": {},
     "output_type": "display_data"
    }
   ],
   "source": [
    "def no_path(item):\n",
    "    return 'NoPath' == item[1]\n",
    "\n",
    "no_paths = [item for item in data.items() if no_path(item)]\n",
    "\n",
    "display(Markdown(\"### No path found\"))\n",
    "print(\"Instances with no connecting path: %i out of %i\" % (len(no_paths), len(data)))\n",
    "display(Markdown(\"---\"))"
   ]
  },
  {
   "cell_type": "markdown",
   "metadata": {},
   "source": [
    "Finally, the instances with errors. On these, the inference procedure had an unrecoverable error that could potentially be fixed"
   ]
  },
  {
   "cell_type": "code",
   "execution_count": 18,
   "metadata": {},
   "outputs": [
    {
     "data": {
      "text/markdown": [
       "### Instances with error"
      ],
      "text/plain": [
       "<IPython.core.display.Markdown object>"
      ]
     },
     "metadata": {},
     "output_type": "display_data"
    },
    {
     "name": "stdout",
     "output_type": "stream",
     "text": [
      "16699 out of 43738\n"
     ]
    }
   ],
   "source": [
    "def error(item):\n",
    "    return 'Error' in item[1]\n",
    "\n",
    "errors = [item for item in data.items() if error(item)]\n",
    "\n",
    "display(Markdown(\"### Instances with error\"))\n",
    "print(\"%i out of %i\" % (len(errors), len(data)))"
   ]
  },
  {
   "cell_type": "markdown",
   "metadata": {},
   "source": [
    "We should also take a look to see the kind of errors and their distribution"
   ]
  },
  {
   "cell_type": "code",
   "execution_count": 19,
   "metadata": {},
   "outputs": [
    {
     "data": {
      "text/html": [
       "<div>\n",
       "<style scoped>\n",
       "    .dataframe tbody tr th:only-of-type {\n",
       "        vertical-align: middle;\n",
       "    }\n",
       "\n",
       "    .dataframe tbody tr th {\n",
       "        vertical-align: top;\n",
       "    }\n",
       "\n",
       "    .dataframe thead th {\n",
       "        text-align: right;\n",
       "    }\n",
       "</style>\n",
       "<table border=\"1\" class=\"dataframe\">\n",
       "  <thead>\n",
       "    <tr style=\"text-align: right;\">\n",
       "      <th></th>\n",
       "      <th>Num of Instances</th>\n",
       "    </tr>\n",
       "  </thead>\n",
       "  <tbody>\n",
       "    <tr>\n",
       "      <th>org.ml4ai.inference.NotGroundableElementException:</th>\n",
       "      <td>14625</td>\n",
       "    </tr>\n",
       "    <tr>\n",
       "      <th>org.ml4ai.inference.SameGroundedEndpointsException</th>\n",
       "      <td>2074</td>\n",
       "    </tr>\n",
       "  </tbody>\n",
       "</table>\n",
       "</div>"
      ],
      "text/plain": [
       "                                                    Num of Instances\n",
       "org.ml4ai.inference.NotGroundableElementException:             14625\n",
       "org.ml4ai.inference.SameGroundedEndpointsException              2074"
      ]
     },
     "metadata": {},
     "output_type": "display_data"
    }
   ],
   "source": [
    "s_errors = pd.Series(e[1]['Error'].split()[0] for e in errors)\n",
    "\n",
    "display(pd.DataFrame(s_errors.value_counts(), columns=[\"Num of Instances\"]))"
   ]
  },
  {
   "cell_type": "markdown",
   "metadata": {},
   "source": [
    "_SameGroundedEndpointsException_ happens when both endpoints end being grounded to the same entity, as an artifact of the entity linking procedure being used in the code. The share is relatively small.\n",
    "\n",
    "On the other hand, _NotGroundableElementException_ happens when one (or both) of the endpoints can't be linked to any of the nodes of the knowledge graph. The share is large, therefore, this is a large opportunity surface\n",
    "\n",
    "---"
   ]
  },
  {
   "cell_type": "markdown",
   "metadata": {},
   "source": [
    "# Successful outcomes analysis"
   ]
  },
  {
   "cell_type": "markdown",
   "metadata": {},
   "source": [
    "Create a data frame as a basis of this analysis"
   ]
  },
  {
   "cell_type": "code",
   "execution_count": 20,
   "metadata": {},
   "outputs": [],
   "source": [
    "frame = pd.DataFrame({'Key':s[0], 'Path':s[1]['Successful']} for s in successes)"
   ]
  },
  {
   "cell_type": "markdown",
   "metadata": {},
   "source": [
    "## Analize path lengths\n",
    "\n",
    "We are interested on the number of edges contained in a path $P$ (Symbollicaly called $|P|$). This is the number of _hops_ of a \"reasoning\". By definition, paths with a single edge only require one document to be read, therefore, are not as valuable to us. \n",
    "Documents with multiple hops _may_ require multiple documents to be assembled. The path lenght represents an _upper bound_ for the dataset's size."
   ]
  },
  {
   "cell_type": "code",
   "execution_count": 21,
   "metadata": {},
   "outputs": [
    {
     "data": {
      "text/plain": [
       "1     2501\n",
       "2     2261\n",
       "3     1560\n",
       "4      901\n",
       "5      487\n",
       "6      242\n",
       "7      141\n",
       "8       55\n",
       "9       26\n",
       "10      18\n",
       "11       7\n",
       "13       5\n",
       "12       4\n",
       "15       2\n",
       "14       1\n",
       "Name: PathLength, dtype: int64"
      ]
     },
     "execution_count": 21,
     "metadata": {},
     "output_type": "execute_result"
    }
   ],
   "source": [
    "# Each instance may have more than one path connecting the endpoints. \n",
    "# This is an artifact of the entity-linking procedue: each endpoint may have multiple goundings, hence multiple paths\n",
    "# In that case, the most efficient path is that with the shortest length, which is found right here:\n",
    "frame['PathLength'] = frame.Path.apply(lambda ps: min(len(p) for p in ps))\n",
    "\n",
    "frame.PathLength.value_counts()"
   ]
  },
  {
   "cell_type": "code",
   "execution_count": 22,
   "metadata": {},
   "outputs": [
    {
     "data": {
      "image/png": "[encoded data removed]",
      "text/plain": [
       "<Figure size 432x288 with 1 Axes>"
      ]
     },
     "metadata": {
      "needs_background": "light"
     },
     "output_type": "display_data"
    }
   ],
   "source": [
    "frame.PathLength.hist()\n",
    "plt.show()"
   ]
  },
  {
   "cell_type": "markdown",
   "metadata": {},
   "source": [
    "**TODO:** Fix this histogram\n",
    "\n",
    "---"
   ]
  },
  {
   "cell_type": "markdown",
   "metadata": {},
   "source": [
    "## Analize the minimum number of required documents "
   ]
  },
  {
   "cell_type": "markdown",
   "metadata": {},
   "source": [
    "Similarly to the previous section. We can compute the minimal set of documents $D$ required to find a path $P$.\n",
    "\n",
    "The upper-bound to $|D|$ is given by $|P|$. Consider the case in which, for each edge $e_i \\in P$, the set of documents that _back_ the relation encoded it, $A(e_i)$ (the _attributing documents of_ $e_i$). If the attributing documents of all edges are disjoint: $\\bigcap_{e_i \\in P}A(e_i) = \\emptyset$ then every element in the cartesian product of all attributing document sets _has_ cardinality $|P|$.\n",
    "\n",
    "A consequence of this, is that there can be more than one minimal set of documents $D$. This situation happens if one edge is contained in more than one document. It follows that there is a set of minimal sets of documents $D \\in \\mathcal{D}$.\n",
    "\n",
    "The lower-bound is given by $1$. If $|P| = 1$, this condition meets tivially: Every member of $A(e_1)$ is a minimal set of documents. When there is more than one edge in $P$, this condition is met if all $A(e_i)$ intersect pair-wise. Consider $I$ to be the intersection of all $A(e_i)$ when they all intersect paiwise. Any individual member of $I$ is itself a minimal set of documents."
   ]
  },
  {
   "cell_type": "code",
   "execution_count": 23,
   "metadata": {},
   "outputs": [
    {
     "data": {
      "text/plain": [
       "1     3505\n",
       "2     2847\n",
       "3     1173\n",
       "4      443\n",
       "5      166\n",
       "6       56\n",
       "7       17\n",
       "8        2\n",
       "10       1\n",
       "9        1\n",
       "Name: MinDocs, dtype: int64"
      ]
     },
     "execution_count": 23,
     "metadata": {},
     "output_type": "execute_result"
    }
   ],
   "source": [
    "def num_documents(paths):\n",
    "    '''\n",
    "    This function computes the size of minimal set of documents for each path containes in the argument.\n",
    "    Then it returns the smallest size.\n",
    "    '''\n",
    "    def helper(l, r, total):\n",
    "        cum = l | r\n",
    "        if len(l & r) > 0:\n",
    "            return (cum, total)\n",
    "        else:\n",
    "            return (cum, total + 1)\n",
    "        \n",
    "    totals = list()\n",
    "        \n",
    "    for path in paths:\n",
    "        doc_sets = [{a['Doc'] for a in edge['Attributions']} for edge in path]\n",
    "        if len(doc_sets) == 1:\n",
    "            totals.append(1)\n",
    "        else:\n",
    "            sumation = 1\n",
    "            current = doc_sets[0]\n",
    "            for n in doc_sets[1:]:\n",
    "                current, sumation = helper(current, n, sumation)\n",
    "            totals.append(sumation)\n",
    "    \n",
    "    return min(totals)\n",
    "\n",
    "frame['MinDocs'] = frame.Path.apply(num_documents)\n",
    "\n",
    "frame.MinDocs.value_counts()"
   ]
  },
  {
   "cell_type": "code",
   "execution_count": 24,
   "metadata": {},
   "outputs": [
    {
     "data": {
      "image/png": "[encoded data removed]",
      "text/plain": [
       "<Figure size 432x288 with 1 Axes>"
      ]
     },
     "metadata": {
      "needs_background": "light"
     },
     "output_type": "display_data"
    }
   ],
   "source": [
    "frame.MinDocs.hist()\n",
    "plt.show()"
   ]
  },
  {
   "cell_type": "markdown",
   "metadata": {},
   "source": [
    "---"
   ]
  }
 ],
 "metadata": {
  "kernelspec": {
   "display_name": "Python 3",
   "language": "python",
   "name": "python3"
  },
  "language_info": {
   "codemirror_mode": {
    "name": "ipython",
    "version": 3
   },
   "file_extension": ".py",
   "mimetype": "text/x-python",
   "name": "python",
   "nbconvert_exporter": "python",
   "pygments_lexer": "ipython3",
   "version": "3.7.3"
  }
 },
 "nbformat": 4,
 "nbformat_minor": 2
}
