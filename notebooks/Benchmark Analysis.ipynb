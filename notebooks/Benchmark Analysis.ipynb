{
 "cells": [
  {
   "cell_type": "markdown",
   "metadata": {},
   "source": [
    "# Introduction"
   ]
  },
  {
   "cell_type": "markdown",
   "metadata": {},
   "source": [
    "Set up the environmet for the analysis. Load the file to display results further down"
   ]
  },
  {
   "cell_type": "code",
   "execution_count": 23,
   "metadata": {},
   "outputs": [],
   "source": [
    "input_path = \"../benchmark.json\""
   ]
  },
  {
   "cell_type": "code",
   "execution_count": 24,
   "metadata": {},
   "outputs": [],
   "source": [
    "import json\n",
    "import pandas as pd\n",
    "\n",
    "with open(input_path) as f:\n",
    "    data = json.load(f)"
   ]
  },
  {
   "cell_type": "code",
   "execution_count": 25,
   "metadata": {},
   "outputs": [
    {
     "name": "stdout",
     "output_type": "stream",
     "text": [
      "This benchmark is comprised of 100 instances, with 32 successes and a success rate of 0.320000\n"
     ]
    }
   ],
   "source": [
    "print(\"This benchmark is comprised of %i instances, with %i successes and a success rate of %f\" % (data[\"size\"], data[\"numSuccesses\"], data[\"numSuccesses\"]/data[\"size\"]))"
   ]
  },
  {
   "cell_type": "markdown",
   "metadata": {},
   "source": [
    "## Statistics"
   ]
  },
  {
   "cell_type": "markdown",
   "metadata": {},
   "source": [
    "### Distribution of iterations per trail"
   ]
  },
  {
   "cell_type": "code",
   "execution_count": 26,
   "metadata": {},
   "outputs": [
    {
     "name": "stdout",
     "output_type": "stream",
     "text": [
      "5     1\n",
      "1    19\n",
      "6     1\n",
      "9     1\n",
      "2     3\n",
      "3     1\n",
      "8     3\n",
      "4     3\n",
      "dtype: int64\n"
     ]
    }
   ],
   "source": [
    "stats = data[\"stats\"]\n",
    "\n",
    "iterationsDist = pd.Series(stats[\"iterationsDist\"])\n",
    "\n",
    "print(iterationsDist)"
   ]
  },
  {
   "cell_type": "markdown",
   "metadata": {},
   "source": [
    "### Distribution of papers read per trail"
   ]
  },
  {
   "cell_type": "code",
   "execution_count": 27,
   "metadata": {},
   "outputs": [
    {
     "name": "stdout",
     "output_type": "stream",
     "text": [
      "5      1\n",
      "1      3\n",
      "6      2\n",
      "9      1\n",
      "2      6\n",
      "7      3\n",
      "3     12\n",
      "16     1\n",
      "4      3\n",
      "dtype: int64\n"
     ]
    }
   ],
   "source": [
    "papersDist = pd.Series(stats['papersDist'])\n",
    "print(papersDist)"
   ]
  },
  {
   "cell_type": "markdown",
   "metadata": {},
   "source": [
    "### Distribution of actions over all"
   ]
  },
  {
   "cell_type": "code",
   "execution_count": 28,
   "metadata": {},
   "outputs": [
    {
     "name": "stdout",
     "output_type": "stream",
     "text": [
      "EXPLORATION            0\n",
      "RANDOM                84\n",
      "EXPLOITATION           0\n",
      "EXPLORATION_DOUBLE     0\n",
      "dtype: int64\n"
     ]
    }
   ],
   "source": [
    "actionDist = pd.Series(stats['actionDist'])\n",
    "print(actionDist)"
   ]
  },
  {
   "cell_type": "markdown",
   "metadata": {},
   "source": [
    "# TODO: Error analysis"
   ]
  },
  {
   "cell_type": "code",
   "execution_count": null,
   "metadata": {},
   "outputs": [],
   "source": []
  }
 ],
 "metadata": {
  "kernelspec": {
   "display_name": "Python 3",
   "language": "python",
   "name": "python3"
  },
  "language_info": {
   "codemirror_mode": {
    "name": "ipython",
    "version": 3
   },
   "file_extension": ".py",
   "mimetype": "text/x-python",
   "name": "python",
   "nbconvert_exporter": "python",
   "pygments_lexer": "ipython3",
   "version": "3.7.2"
  }
 },
 "nbformat": 4,
 "nbformat_minor": 2
}
