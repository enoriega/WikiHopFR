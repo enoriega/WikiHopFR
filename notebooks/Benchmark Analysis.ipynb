{
 "cells": [
  {
   "cell_type": "markdown",
   "metadata": {},
   "source": [
    "# Introduction"
   ]
  },
  {
   "cell_type": "markdown",
   "metadata": {},
   "source": [
    "Set up the environmet for the analysis. Load the file to display results further down"
   ]
  },
  {
   "cell_type": "code",
   "execution_count": 97,
   "metadata": {},
   "outputs": [],
   "source": [
    "input_path = \"../output/benchmark_deps.json\""
   ]
  },
  {
   "cell_type": "code",
   "execution_count": 98,
   "metadata": {},
   "outputs": [],
   "source": [
    "import json\n",
    "import pandas as pd\n",
    "\n",
    "with open(input_path) as f:\n",
    "    data = json.load(f)"
   ]
  },
  {
   "cell_type": "code",
   "execution_count": 99,
   "metadata": {},
   "outputs": [
    {
     "name": "stdout",
     "output_type": "stream",
     "text": [
      "This benchmark is comprised of 43738 instances, with 5939 successes and a success rate of 0.135786\n"
     ]
    }
   ],
   "source": [
    "print(\"This benchmark is comprised of %i instances, with %i successes and a success rate of %f\" % (data[\"size\"], data[\"numSuccesses\"], data[\"numSuccesses\"]/data[\"size\"]))"
   ]
  },
  {
   "cell_type": "markdown",
   "metadata": {},
   "source": [
    "## Statistics for succesful cases"
   ]
  },
  {
   "cell_type": "markdown",
   "metadata": {},
   "source": [
    "### Distribution of iterations per trail"
   ]
  },
  {
   "cell_type": "code",
   "execution_count": 100,
   "metadata": {},
   "outputs": [
    {
     "name": "stdout",
     "output_type": "stream",
     "text": [
      "5      231\n",
      "10      91\n",
      "1     3435\n",
      "6      192\n",
      "9      115\n",
      "2      773\n",
      "7      150\n",
      "3      474\n",
      "8      121\n",
      "4      357\n",
      "dtype: int64\n"
     ]
    }
   ],
   "source": [
    "stats = data[\"stats\"]\n",
    "\n",
    "iterationsDist = pd.Series(stats[\"iterationsDist\"])\n",
    "\n",
    "print(iterationsDist)"
   ]
  },
  {
   "cell_type": "markdown",
   "metadata": {},
   "source": [
    "### Distribution of papers read per trail"
   ]
  },
  {
   "cell_type": "code",
   "execution_count": 101,
   "metadata": {},
   "outputs": [
    {
     "name": "stdout",
     "output_type": "stream",
     "text": [
      "5      525\n",
      "10     163\n",
      "24       7\n",
      "25       5\n",
      "14      77\n",
      "20      26\n",
      "29       2\n",
      "1      567\n",
      "6      421\n",
      "28       1\n",
      "38       2\n",
      "21      23\n",
      "33       1\n",
      "9      232\n",
      "13     114\n",
      "2      902\n",
      "34       1\n",
      "17      41\n",
      "22      11\n",
      "27       3\n",
      "12     145\n",
      "7      317\n",
      "3     1040\n",
      "18      28\n",
      "16      57\n",
      "31       1\n",
      "11     166\n",
      "26       3\n",
      "23       3\n",
      "8      239\n",
      "30       3\n",
      "19      42\n",
      "4      708\n",
      "15      63\n",
      "dtype: int64\n"
     ]
    }
   ],
   "source": [
    "papersDist = pd.Series(stats['papersDist'])\n",
    "print(papersDist)"
   ]
  },
  {
   "cell_type": "markdown",
   "metadata": {},
   "source": [
    "### Distribution of actions over all"
   ]
  },
  {
   "cell_type": "code",
   "execution_count": 102,
   "metadata": {},
   "outputs": [
    {
     "name": "stdout",
     "output_type": "stream",
     "text": [
      "EXPLORATION               0\n",
      "RANDOM                14101\n",
      "EXPLOITATION              0\n",
      "EXPLORATION_DOUBLE        0\n",
      "dtype: int64\n"
     ]
    }
   ],
   "source": [
    "actionDist = pd.Series(stats['actionDist'])\n",
    "print(actionDist)"
   ]
  },
  {
   "cell_type": "markdown",
   "metadata": {},
   "source": [
    "A more detailed look at the cases with a path (_Successful_ cases). Preprocess the data and take a look into the structure of the data frame."
   ]
  },
  {
   "cell_type": "code",
   "execution_count": 103,
   "metadata": {},
   "outputs": [
    {
     "name": "stdout",
     "output_type": "stream",
     "text": [
      "                   actions  iterations  min_papers  papersRead\n",
      "id                                                            \n",
      "WH_train_10  {'RANDOM': 3}           3           2          11\n",
      "WH_train_18  {'RANDOM': 1}           1           1           7\n",
      "WH_train_22  {'RANDOM': 3}           3           1           3\n",
      "WH_train_23  {'RANDOM': 1}           1           1           7\n",
      "WH_train_24  {'RANDOM': 1}           1           1           2\n",
      "Num elements: 5939\n"
     ]
    }
   ],
   "source": [
    "successes = [d for d in data['data'] if d['success']]\n",
    "\n",
    "def num_documents(paths):\n",
    "    '''\n",
    "    This function computes the size of minimal set of documents for each path containes in the argument.\n",
    "    Then it returns the smallest size.\n",
    "    '''\n",
    "    def helper(l, r, total):\n",
    "        cum = l | r\n",
    "        if len(l & r) > 0:\n",
    "            return (cum, total)\n",
    "        else:\n",
    "            return (cum, total + 1)\n",
    "        \n",
    "    totals = list()\n",
    "        \n",
    "    for path in paths:\n",
    "        doc_sets = [{a['document'] for a in edge['attributions']} for edge in path]\n",
    "        if len(doc_sets) == 1:\n",
    "            totals.append(1)\n",
    "        else:\n",
    "            sumation = 1\n",
    "            current = doc_sets[0]\n",
    "            for n in doc_sets[1:]:\n",
    "                current, sumation = helper(current, n, sumation)\n",
    "            totals.append(sumation)\n",
    "    \n",
    "    return min(totals)\n",
    "\n",
    "for s in successes:\n",
    "    s['min_papers'] = num_documents(s['paths'])\n",
    "\n",
    "\n",
    "f = pd.DataFrame({k: d[k] for k in set(d.keys()).difference({'success', 'paths'})} for d in successes)\n",
    "f.set_index('id', inplace=True)\n",
    "print(f.head())\n",
    "print(\"Num elements: %i\" % f.shape[0])"
   ]
  },
  {
   "cell_type": "code",
   "execution_count": 104,
   "metadata": {},
   "outputs": [
    {
     "name": "stdout",
     "output_type": "stream",
     "text": [
      "True\n"
     ]
    }
   ],
   "source": [
    "# Small sanity check. No epoch should've read less than the paper lower bound computer for it.\n",
    "print(all(f.min_papers <= f.papersRead))"
   ]
  },
  {
   "cell_type": "markdown",
   "metadata": {},
   "source": [
    "Take a look at the paper distributions"
   ]
  },
  {
   "cell_type": "code",
   "execution_count": 105,
   "metadata": {},
   "outputs": [
    {
     "data": {
      "image/png": "[encoded data removed]",
      "text/plain": [
       "<Figure size 432x288 with 1 Axes>"
      ]
     },
     "metadata": {
      "needs_background": "light"
     },
     "output_type": "display_data"
    }
   ],
   "source": [
    "import matplotlib.pyplot as plt\n",
    "f.min_papers.hist(bins=f.min_papers.max())\n",
    "plt.show()"
   ]
  },
  {
   "cell_type": "code",
   "execution_count": 106,
   "metadata": {},
   "outputs": [
    {
     "data": {
      "image/png": "[encoded data removed]",
      "text/plain": [
       "<Figure size 432x288 with 1 Axes>"
      ]
     },
     "metadata": {
      "needs_background": "light"
     },
     "output_type": "display_data"
    }
   ],
   "source": [
    "f.papersRead.hist(bins=f.papersRead.max())\n",
    "plt.show()"
   ]
  },
  {
   "cell_type": "markdown",
   "metadata": {},
   "source": [
    "Out of the instances finished after one iteration. What is the paper distribution?"
   ]
  },
  {
   "cell_type": "code",
   "execution_count": 107,
   "metadata": {},
   "outputs": [
    {
     "data": {
      "image/png": "[encoded data removed]",
      "text/plain": [
       "<Figure size 432x288 with 1 Axes>"
      ]
     },
     "metadata": {
      "needs_background": "light"
     },
     "output_type": "display_data"
    }
   ],
   "source": [
    "lucky_ones = f[f.actions.map(lambda r: sum(r.values())) == 1]\n",
    "lucky_ones.papersRead.hist(bins=lucky_ones.papersRead.max())\n",
    "plt.show()"
   ]
  },
  {
   "cell_type": "markdown",
   "metadata": {},
   "source": [
    "# Error analysis"
   ]
  },
  {
   "cell_type": "code",
   "execution_count": 108,
   "metadata": {},
   "outputs": [
    {
     "name": "stdout",
     "output_type": "stream",
     "text": [
      "                   actions  iterations  papersRead\n",
      "id                                                \n",
      "WH_train_0  {'RANDOM': 10}          10           5\n",
      "WH_train_1  {'RANDOM': 10}          10           3\n",
      "WH_train_2   {'RANDOM': 1}           1           0\n",
      "WH_train_3   {'RANDOM': 1}           1           0\n",
      "WH_train_4  {'RANDOM': 10}          10          27\n",
      "Num elements: 37799\n"
     ]
    }
   ],
   "source": [
    "# First, isolate the negative cases\n",
    "\n",
    "failures = [d for d in data['data'] if not d['success']]\n",
    "\n",
    "\n",
    "s = pd.DataFrame({k: d[k] for k in set(d.keys()).difference({'success', 'paths'})} for d in failures)\n",
    "s.set_index('id', inplace=True)\n",
    "print(s.head())\n",
    "print(\"Num elements: %i\" % s.shape[0])"
   ]
  },
  {
   "cell_type": "markdown",
   "metadata": {},
   "source": [
    "How many of the failures were due to _iteration exhaustion_?"
   ]
  },
  {
   "cell_type": "code",
   "execution_count": 109,
   "metadata": {},
   "outputs": [
    {
     "name": "stdout",
     "output_type": "stream",
     "text": [
      "28316 out of 37799, or 0.749120\n"
     ]
    }
   ],
   "source": [
    "max_iter = s.iterations.max()\n",
    "\n",
    "exhausted = s[s.iterations == max_iter]\n",
    "\n",
    "percent = exhausted.shape[0]/s.shape[0]\n",
    "\n",
    "print(\"%i out of %i, or %f\" % (exhausted.shape[0], s.shape[0], percent))"
   ]
  },
  {
   "cell_type": "markdown",
   "metadata": {},
   "source": [
    "The reminder of failures, had the following distribution of iterations:"
   ]
  },
  {
   "cell_type": "code",
   "execution_count": 110,
   "metadata": {},
   "outputs": [
    {
     "data": {
      "image/png": "[encoded data removed]",
      "text/plain": [
       "<Figure size 432x288 with 1 Axes>"
      ]
     },
     "metadata": {
      "needs_background": "light"
     },
     "output_type": "display_data"
    }
   ],
   "source": [
    "not_exhausted = s[s.iterations != max_iter]\n",
    "not_exhausted.iterations.hist(bins=not_exhausted.iterations.max())\n",
    "plt.show()"
   ]
  },
  {
   "cell_type": "code",
   "execution_count": 112,
   "metadata": {},
   "outputs": [
    {
     "data": {
      "image/png": "[encoded data removed]",
      "text/plain": [
       "<Figure size 432x288 with 1 Axes>"
      ]
     },
     "metadata": {
      "needs_background": "light"
     },
     "output_type": "display_data"
    }
   ],
   "source": [
    "not_exhausted.papersRead.hist()\n",
    "plt.show()"
   ]
  },
  {
   "cell_type": "markdown",
   "metadata": {},
   "source": [
    "The explanation for this is that the information retrieval returned a small amount of papers, and no new data was added to the knowledge graph or any other reason that lead to _action starvation_"
   ]
  }
 ],
 "metadata": {
  "kernelspec": {
   "display_name": "Python 3",
   "language": "python",
   "name": "python3"
  },
  "language_info": {
   "codemirror_mode": {
    "name": "ipython",
    "version": 3
   },
   "file_extension": ".py",
   "mimetype": "text/x-python",
   "name": "python",
   "nbconvert_exporter": "python",
   "pygments_lexer": "ipython3",
   "version": "3.7.2"
  }
 },
 "nbformat": 4,
 "nbformat_minor": 2
}
